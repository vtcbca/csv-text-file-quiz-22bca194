{
 "cells": [
  {
   "cell_type": "code",
   "execution_count": 9,
   "id": "fd48036c",
   "metadata": {},
   "outputs": [],
   "source": [
    "import csv"
   ]
  },
  {
   "cell_type": "code",
   "execution_count": 11,
   "id": "0f568cc7",
   "metadata": {},
   "outputs": [
    {
     "name": "stdout",
     "output_type": "stream",
     "text": [
      "hello i'm neel.\n",
      "i'm from surat.\n",
      "i want to be web developer.\n",
      "i am big fan of hitman.\n",
      "i'm 18 years old.\n",
      "mine hobbies are cricket,kabaddi and pool.\n"
     ]
    }
   ],
   "source": [
    "with open('C:\\sqlite3\\intro.txt','r') as f:\n",
    "    r=f.read()\n",
    "    print(r)\n",
    "    "
   ]
  },
  {
   "cell_type": "code",
   "execution_count": 12,
   "id": "af519fcb",
   "metadata": {},
   "outputs": [],
   "source": [
    "a=['sid','sname','city','contact']"
   ]
  },
  {
   "cell_type": "code",
   "execution_count": 13,
   "id": "8b3fd318",
   "metadata": {},
   "outputs": [],
   "source": [
    "records=[[1,'raj','bharuch',9632591232],\n",
    "         [2,'ved','bardoli',9785785429],\n",
    "         [3,'om','surat',8485963218],\n",
    "         [4,'ved','baroda',9863521478],\n",
    "         [5,'trith','valod',9930452161]]\n",
    "p=[]"
   ]
  },
  {
   "cell_type": "code",
   "execution_count": 14,
   "id": "ea779373",
   "metadata": {},
   "outputs": [
    {
     "name": "stdout",
     "output_type": "stream",
     "text": [
      "enter student id:1\n",
      "enter student name:neel\n",
      "enter student city:surat\n",
      "enter student contact number:6523023014\n",
      "enter student id:2\n",
      "enter student name:keval\n",
      "enter student city:bardoli\n",
      "enter student contact number:4520320123\n",
      "enter student id:3\n",
      "enter student name:raj\n",
      "enter student city:vyara\n",
      "enter student contact number:4520320123\n",
      "enter student id:4\n",
      "enter student name:prem\n",
      "enter student city:bharuch\n",
      "enter student contact number:4563023012\n",
      "enter student id:5\n",
      "enter student name:harsh\n",
      "enter student city:mumbai\n",
      "enter student contact number:3203201236\n"
     ]
    }
   ],
   "source": [
    "for i in range(5):\n",
    "    sid=int(input(\"enter student id:\"))\n",
    "    sname=input(\"enter student name:\")\n",
    "    city=input(\"enter student city:\")\n",
    "    contact=int(input(\"enter student contact number:\"))\n",
    "    l=[sid,sname,city,contact]\n",
    "    p.append(l)"
   ]
  },
  {
   "cell_type": "code",
   "execution_count": null,
   "id": "621f4dc6",
   "metadata": {},
   "outputs": [],
   "source": []
  }
 ],
 "metadata": {
  "kernelspec": {
   "display_name": "Python 3 (ipykernel)",
   "language": "python",
   "name": "python3"
  },
  "language_info": {
   "codemirror_mode": {
    "name": "ipython",
    "version": 3
   },
   "file_extension": ".py",
   "mimetype": "text/x-python",
   "name": "python",
   "nbconvert_exporter": "python",
   "pygments_lexer": "ipython3",
   "version": "3.11.4"
  }
 },
 "nbformat": 4,
 "nbformat_minor": 5
}
